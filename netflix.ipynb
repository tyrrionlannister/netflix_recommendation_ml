{
 "cells": [
  {
   "cell_type": "code",
   "execution_count": 4,
   "metadata": {},
   "outputs": [],
   "source": [
    "import numpy as np\n",
    "import pandas as pd\n",
    "from sklearn.feature_extraction.text import TfidfVectorizer\n",
    "from sklearn.metrics.pairwise import cosine_similarity\n",
    "import nltk\n",
    "import re\n",
    "import string\n",
    "from nltk.corpus import stopwords"
   ]
  },
  {
   "cell_type": "code",
   "execution_count": 8,
   "metadata": {},
   "outputs": [
    {
     "name": "stdout",
     "output_type": "stream",
     "text": [
      "                                Show Id                          Title  \\\n",
      "0  cc1b6ed9-cf9e-4057-8303-34577fb54477                       (Un)Well   \n",
      "1  e2ef4e91-fb25-42ab-b485-be8e3b23dedb                         #Alive   \n",
      "2  b01b73b7-81f6-47a7-86d8-acb63080d525  #AnneFrank - Parallel Stories   \n",
      "3  b6611af0-f53c-4a08-9ffa-9716dc57eb9c                       #blackAF   \n",
      "4  7f2d4170-bab8-4d75-adc2-197f7124c070               #cats_the_mewvie   \n",
      "\n",
      "                                         Description  \\\n",
      "0  This docuseries takes a deep dive into the luc...   \n",
      "1  As a grisly virus rampages a city, a lone man ...   \n",
      "2  Through her diary, Anne Frank's story is retol...   \n",
      "3  Kenya Barris and his family navigate relations...   \n",
      "4  This pawesome documentary explores how our fel...   \n",
      "\n",
      "                      Director  \\\n",
      "0                          NaN   \n",
      "1                       Cho Il   \n",
      "2  Sabina Fedeli, Anna Migotto   \n",
      "3                          NaN   \n",
      "4             Michael Margolis   \n",
      "\n",
      "                                           Genres  \\\n",
      "0                                      Reality TV   \n",
      "1  Horror Movies, International Movies, Thrillers   \n",
      "2             Documentaries, International Movies   \n",
      "3                                     TV Comedies   \n",
      "4             Documentaries, International Movies   \n",
      "\n",
      "                                                Cast Production Country  \\\n",
      "0                                                NaN      United States   \n",
      "1                           Yoo Ah-in, Park Shin-hye        South Korea   \n",
      "2                        Helen Mirren, Gengher Gatti              Italy   \n",
      "3  Kenya Barris, Rashida Jones, Iman Benson, Genn...      United States   \n",
      "4                                                NaN             Canada   \n",
      "\n",
      "   Release Date Rating  Duration Imdb Score Content Type         Date Added  \n",
      "0        2020.0  TV-MA  1 Season     6.6/10      TV Show                NaN  \n",
      "1        2020.0  TV-MA    99 min     6.2/10        Movie  September 8, 2020  \n",
      "2        2019.0  TV-14    95 min     6.4/10        Movie       July 1, 2020  \n",
      "3        2020.0  TV-MA  1 Season     6.6/10      TV Show                NaN  \n",
      "4        2020.0  TV-14    90 min     5.1/10        Movie   February 5, 2020  \n"
     ]
    }
   ],
   "source": [
    "# Load the dataset\n",
    "data = pd.read_csv(r\"C:\\Users\\hp\\OneDrive\\Desktop\\netflix_recommendation\\netflixData.csv\")\n",
    "print(data.head())"
   ]
  },
  {
   "cell_type": "code",
   "execution_count": 9,
   "metadata": {},
   "outputs": [
    {
     "name": "stdout",
     "output_type": "stream",
     "text": [
      "                           Title  \\\n",
      "0                       (Un)Well   \n",
      "1                         #Alive   \n",
      "2  #AnneFrank - Parallel Stories   \n",
      "3                       #blackAF   \n",
      "4               #cats_the_mewvie   \n",
      "\n",
      "                                         Description Content Type  \\\n",
      "0  This docuseries takes a deep dive into the luc...      TV Show   \n",
      "1  As a grisly virus rampages a city, a lone man ...        Movie   \n",
      "2  Through her diary, Anne Frank's story is retol...        Movie   \n",
      "3  Kenya Barris and his family navigate relations...      TV Show   \n",
      "4  This pawesome documentary explores how our fel...        Movie   \n",
      "\n",
      "                                           Genres  \n",
      "0                                      Reality TV  \n",
      "1  Horror Movies, International Movies, Thrillers  \n",
      "2             Documentaries, International Movies  \n",
      "3                                     TV Comedies  \n",
      "4             Documentaries, International Movies  \n"
     ]
    }
   ],
   "source": [
    "# Select relevant columns\n",
    "data = data[[\"Title\", \"Description\", \"Content Type\", \"Genres\"]]\n",
    "print(data.head())\n"
   ]
  },
  {
   "cell_type": "code",
   "execution_count": 10,
   "metadata": {},
   "outputs": [
    {
     "name": "stdout",
     "output_type": "stream",
     "text": [
      "Data after dropping NaNs:\n",
      "                           Title  \\\n",
      "0                       (Un)Well   \n",
      "1                         #Alive   \n",
      "2  #AnneFrank - Parallel Stories   \n",
      "3                       #blackAF   \n",
      "4               #cats_the_mewvie   \n",
      "\n",
      "                                         Description Content Type  \\\n",
      "0  This docuseries takes a deep dive into the luc...      TV Show   \n",
      "1  As a grisly virus rampages a city, a lone man ...        Movie   \n",
      "2  Through her diary, Anne Frank's story is retol...        Movie   \n",
      "3  Kenya Barris and his family navigate relations...      TV Show   \n",
      "4  This pawesome documentary explores how our fel...        Movie   \n",
      "\n",
      "                                           Genres  \n",
      "0                                      Reality TV  \n",
      "1  Horror Movies, International Movies, Thrillers  \n",
      "2             Documentaries, International Movies  \n",
      "3                                     TV Comedies  \n",
      "4             Documentaries, International Movies  \n"
     ]
    }
   ],
   "source": [
    "# Drop rows with missing values\n",
    "data = data.dropna()\n",
    "print(\"Data after dropping NaNs:\")\n",
    "print(data.head())"
   ]
  },
  {
   "cell_type": "code",
   "execution_count": 11,
   "metadata": {},
   "outputs": [
    {
     "name": "stderr",
     "output_type": "stream",
     "text": [
      "[nltk_data] Downloading package stopwords to\n",
      "[nltk_data]     C:\\Users\\hp\\AppData\\Roaming\\nltk_data...\n",
      "[nltk_data]   Package stopwords is already up-to-date!\n"
     ]
    }
   ],
   "source": [
    "# Download NLTK stopwords\n",
    "nltk.download('stopwords')\n",
    "stemmer = nltk.SnowballStemmer(\"english\")\n",
    "stopword = set(stopwords.words('english'))"
   ]
  },
  {
   "cell_type": "code",
   "execution_count": 16,
   "metadata": {},
   "outputs": [
    {
     "name": "stderr",
     "output_type": "stream",
     "text": [
      "<>:4: SyntaxWarning: invalid escape sequence '\\['\n",
      "<>:5: SyntaxWarning: invalid escape sequence '\\S'\n",
      "<>:9: SyntaxWarning: invalid escape sequence '\\w'\n",
      "<>:4: SyntaxWarning: invalid escape sequence '\\['\n",
      "<>:5: SyntaxWarning: invalid escape sequence '\\S'\n",
      "<>:9: SyntaxWarning: invalid escape sequence '\\w'\n",
      "C:\\Users\\hp\\AppData\\Local\\Temp\\ipykernel_972\\3592191068.py:4: SyntaxWarning: invalid escape sequence '\\['\n",
      "  text = re.sub('\\[.*?\\]', '', text)\n",
      "C:\\Users\\hp\\AppData\\Local\\Temp\\ipykernel_972\\3592191068.py:5: SyntaxWarning: invalid escape sequence '\\S'\n",
      "  text = re.sub('https?://\\S+|www\\.\\S+', '', text)\n",
      "C:\\Users\\hp\\AppData\\Local\\Temp\\ipykernel_972\\3592191068.py:9: SyntaxWarning: invalid escape sequence '\\w'\n",
      "  text = re.sub('\\w*\\d\\w*', '', text)\n"
     ]
    }
   ],
   "source": [
    "# Function to clean text\n",
    "def clean(text):\n",
    "    text = str(text).lower()\n",
    "    text = re.sub('\\[.*?\\]', '', text)\n",
    "    text = re.sub('https?://\\S+|www\\.\\S+', '', text)\n",
    "    text = re.sub('<.*?>+', '', text)\n",
    "    text = re.sub('[%s]' % re.escape(string.punctuation), '', text)\n",
    "    text = re.sub('\\n', '', text)\n",
    "    text = re.sub('\\w*\\d\\w*', '', text)\n",
    "    text = [word for word in text.split(' ') if word not in stopword]\n",
    "    text = \" \".join(text)\n",
    "    text = [stemmer.stem(word) for word in text.split(' ')]\n",
    "    text = \" \".join(text)\n",
    "    return text"
   ]
  },
  {
   "cell_type": "code",
   "execution_count": 39,
   "metadata": {},
   "outputs": [
    {
     "name": "stdout",
     "output_type": "stream",
     "text": [
      "Data after cleaning:\n",
      "                       Title  \\\n",
      "0                      unwel   \n",
      "1                       aliv   \n",
      "2  annefrank  parallel stori   \n",
      "3                    blackaf   \n",
      "4               catsthemewvi   \n",
      "\n",
      "                                         Description Content Type  \\\n",
      "0  This docuseries takes a deep dive into the luc...      TV Show   \n",
      "1  As a grisly virus rampages a city, a lone man ...        Movie   \n",
      "2  Through her diary, Anne Frank's story is retol...        Movie   \n",
      "3  Kenya Barris and his family navigate relations...      TV Show   \n",
      "4  This pawesome documentary explores how our fel...        Movie   \n",
      "\n",
      "                             Genres  \n",
      "0                        realiti tv  \n",
      "1  horror movi intern movi thriller  \n",
      "2           documentari intern movi  \n",
      "3                         tv comedi  \n",
      "4           documentari intern movi  \n"
     ]
    }
   ],
   "source": [
    "# Clean the Title and Genres columns\n",
    "data[\"Title\"] = data[\"Title\"].apply(clean)\n",
    "data[\"Genres\"] = data[\"Genres\"].apply(clean)\n",
    "print(\"Data after cleaning:\")\n",
    "print(data.head())"
   ]
  },
  {
   "cell_type": "code",
   "execution_count": 18,
   "metadata": {},
   "outputs": [],
   "source": [
    "# Create a TF-IDF vectorizer\n",
    "tfidf = TfidfVectorizer(stop_words=\"english\")"
   ]
  },
  {
   "cell_type": "code",
   "execution_count": 19,
   "metadata": {},
   "outputs": [
    {
     "name": "stdout",
     "output_type": "stream",
     "text": [
      "TF-IDF Matrix shape: (5967, 39)\n"
     ]
    }
   ],
   "source": [
    "# Fit and transform the vectorizer on the Genres column\n",
    "tfidf_matrix = tfidf.fit_transform(data[\"Genres\"].tolist())\n",
    "print(\"TF-IDF Matrix shape:\", tfidf_matrix.shape)"
   ]
  },
  {
   "cell_type": "code",
   "execution_count": 20,
   "metadata": {},
   "outputs": [
    {
     "name": "stdout",
     "output_type": "stream",
     "text": [
      "Cosine similarity matrix shape: (5967, 5967)\n"
     ]
    }
   ],
   "source": [
    "# Compute the cosine similarity matrix\n",
    "similarity = cosine_similarity(tfidf_matrix)\n",
    "print(\"Cosine similarity matrix shape:\", similarity.shape)"
   ]
  },
  {
   "cell_type": "code",
   "execution_count": 21,
   "metadata": {},
   "outputs": [
    {
     "name": "stdout",
     "output_type": "stream",
     "text": [
      "Indices Series:\n",
      "Title\n",
      "unwel                        0\n",
      "aliv                         1\n",
      "annefrank  parallel stori    2\n",
      "blackaf                      3\n",
      "catsthemewvi                 4\n",
      "dtype: int64\n"
     ]
    }
   ],
   "source": [
    "# Create a Series to map titles to their indices\n",
    "indices = pd.Series(data.index, index=data['Title']).drop_duplicates()\n",
    "print(\"Indices Series:\")\n",
    "print(indices.head())"
   ]
  },
  {
   "cell_type": "code",
   "execution_count": 22,
   "metadata": {},
   "outputs": [],
   "source": [
    "# Function to get Netflix recommendations\n",
    "def netFlix_recommendation(title, similarity=similarity):\n",
    "    if title not in indices:\n",
    "        return f\"Title '{title}' not found in the dataset.\"\n",
    "    index = indices[title]\n",
    "    similarity_scores = list(enumerate(similarity[index]))\n",
    "    similarity_scores = sorted(similarity_scores, key=lambda x: x[1], reverse=True)\n",
    "    similarity_scores = similarity_scores[:10]\n",
    "    movie_indices = [i[0] for i in similarity_scores]\n",
    "    return data['Title'].iloc[movie_indices]"
   ]
  },
  {
   "cell_type": "code",
   "execution_count": 40,
   "metadata": {},
   "outputs": [
    {
     "name": "stdout",
     "output_type": "stream",
     "text": [
      "Recommendations for 'girlfriend':\n",
      "3                          blackaf\n",
      "285                     washington\n",
      "417                 arrest develop\n",
      "434     astronomi club sketch show\n",
      "451    aunti donna big ol hous fun\n",
      "656                      big mouth\n",
      "752                bojack horseman\n",
      "805                   brew brother\n",
      "935                       champion\n",
      "937                   chappel show\n",
      "Name: Title, dtype: object\n"
     ]
    }
   ],
   "source": [
    "# Example: Get recommendations for a specific title\n",
    "recommendations = netFlix_recommendation(\"girlfriend\")\n",
    "print(\"Recommendations for 'girlfriend':\")\n",
    "print(recommendations)"
   ]
  }
 ],
 "metadata": {
  "kernelspec": {
   "display_name": "Python 3",
   "language": "python",
   "name": "python3"
  },
  "language_info": {
   "codemirror_mode": {
    "name": "ipython",
    "version": 3
   },
   "file_extension": ".py",
   "mimetype": "text/x-python",
   "name": "python",
   "nbconvert_exporter": "python",
   "pygments_lexer": "ipython3",
   "version": "3.12.1"
  }
 },
 "nbformat": 4,
 "nbformat_minor": 2
}
